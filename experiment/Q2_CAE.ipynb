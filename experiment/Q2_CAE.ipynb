{
  "cells": [
    {
      "cell_type": "markdown",
      "metadata": {
        "id": "yACsh-j5o1nC"
      },
      "source": [
        "#Allowing Import from Parent Directory"
      ]
    },
    {
      "cell_type": "code",
      "execution_count": 2,
      "metadata": {
        "id": "W27CS1vNo3ld"
      },
      "outputs": [],
      "source": [
        "import os\n",
        "import sys\n",
        "import inspect\n",
        "\n",
        "currentdir = os.path.dirname(os.path.abspath(inspect.getfile(inspect.currentframe())))\n",
        "parentdir = os.path.dirname(currentdir)\n",
        "sys.path.insert(0, parentdir)"
      ]
    },
    {
      "cell_type": "markdown",
      "metadata": {
        "id": "f-Dnldddo79n"
      },
      "source": [
        "#Importing Packages"
      ]
    },
    {
      "cell_type": "code",
      "execution_count": 4,
      "metadata": {
        "id": "AeLd1Llqbdt4"
      },
      "outputs": [],
      "source": [
        "import glob\n",
        "import numpy as np\n",
        "import pandas as pd\n",
        "import matplotlib.pyplot as plt\n",
        "import time\n",
        "import tools.loaddata as loaddata\n",
        "import tools.dataassimilation as da\n",
        "import tools.visualisation as visual\n",
        "\n",
        "import sklearn\n",
        "assert sklearn.__version__ >= \"0.20\"\n",
        "from sklearn.metrics import mean_squared_error\n",
        "from sklearn.decomposition import PCA\n",
        "\n",
        "# TensorFlow ≥2.0 is required\n",
        "import tensorflow as tf\n",
        "from tensorflow import keras\n",
        "assert tf.__version__ >= \"2.0\""
      ]
    },
    {
      "cell_type": "markdown",
      "metadata": {
        "id": "iBG__lIapN4N"
      },
      "source": [
        "#Loading and Reshaping Data"
      ]
    },
    {
      "cell_type": "code",
      "execution_count": null,
      "metadata": {
        "id": "xGJyuYhfpUCU"
      },
      "outputs": [],
      "source": [
        "path_train = \"../data/train/\"\n",
        "path_test = \"../data/test/\"\n",
        "path_back = \"../data/background/\"\n",
        "path_obs = \"../data/satellite/\""
      ]
    },
    {
      "cell_type": "code",
      "execution_count": null,
      "metadata": {},
      "outputs": [],
      "source": [
        "# We sliced our data to even numbers to make it\n",
        "# convenient for max-pooling when we train our model"
      ]
    },
    {
      "cell_type": "code",
      "execution_count": 6,
      "metadata": {
        "id": "Tlwb24jNbrjO"
      },
      "outputs": [],
      "source": [
        "train_full = loaddata.load_data(path_train)[:,:858,:910]\n",
        "test = loaddata.load_data(path_test)[:,:858,:910]\n",
        "model_data = loaddata.load_data(path_back)[:,:858,:910]\n",
        "satellite_data = loaddata.load_data(path_obs)[:,:858,:910]"
      ]
    },
    {
      "cell_type": "code",
      "execution_count": 72,
      "metadata": {
        "id": "e9_TSr_4LIpG"
      },
      "outputs": [],
      "source": [
        "# Due to RAM and time limitations when running the convolutional autoencoder, we had to reduce the dataset massively. "
      ]
    },
    {
      "cell_type": "code",
      "execution_count": 7,
      "metadata": {
        "id": "v_tqkw4fbtwb"
      },
      "outputs": [],
      "source": [
        "train = train_full[0:100]"
      ]
    },
    {
      "cell_type": "code",
      "execution_count": 8,
      "metadata": {
        "colab": {
          "base_uri": "https://localhost:8080/"
        },
        "id": "B-l2CSPMbvvP",
        "outputId": "7faffe05-8749-4f51-e952-2be89fd69420"
      },
      "outputs": [
        {
          "name": "stdout",
          "output_type": "stream",
          "text": [
            "Train data shape reshaping: (100, 858, 910)\n",
            "Test data shape reshaping: (300, 858, 910)\n",
            "Background data shape reshaping: (5, 858, 910)\n",
            "Observational data shape reshaping: (5, 858, 910)\n"
          ]
        }
      ],
      "source": [
        "print(f\"Train data shape reshaping: {np.shape(train)}\")\n",
        "print(f\"Test data shape reshaping: {np.shape(test)}\")\n",
        "print(f\"Background data shape reshaping: {np.shape(model_data)}\")\n",
        "print(f\"Observational data shape reshaping: {np.shape(satellite_data)}\")"
      ]
    },
    {
      "cell_type": "markdown",
      "metadata": {
        "id": "knkpedTdLS_z"
      },
      "source": [
        "# Convolutional Autoencoder"
      ]
    },
    {
      "cell_type": "markdown",
      "metadata": {},
      "source": [
        "In order to improve the robustness of the small perturbations around the data points of the training set, the contraction autoencoder adds a regular term to the basic autoencoder in the form of the norm of the encoder's mapping on the input matrix (the specific form is as follows), in order to force it to learn the mapping with stronger contraction on the training sample.  "
      ]
    },
    {
      "cell_type": "markdown",
      "metadata": {},
      "source": [
        "Normally, the CAE autoencoder will consist of dense layers since the contraction penalty wants to keep the learned feature constant in all directions (it shrinks in all directions), while the reconstruction error wants to reconstruct the learned feature back into the input. To extract our characteristics efficiently, avoid parameter redundancy at dense layer and avoid over-fitting, we designed a full convolutional layer and pooling layer to construct our model."
      ]
    },
    {
      "cell_type": "markdown",
      "metadata": {},
      "source": [
        "However, in the practical running, there are still some over-fitting problems,so maybe we could optimize our model with extra dropout layers and adjust our lose function to get lower mse given more time. "
      ]
    },
    {
      "cell_type": "code",
      "execution_count": 9,
      "metadata": {
        "colab": {
          "base_uri": "https://localhost:8080/"
        },
        "id": "kMvBsBEYdIZz",
        "outputId": "9aac8439-8e55-4658-f4c9-c12c16da0214"
      },
      "outputs": [
        {
          "name": "stdout",
          "output_type": "stream",
          "text": [
            "Encoder:\n",
            "Model: \"sequential\"\n",
            "_________________________________________________________________\n",
            " Layer (type)                Output Shape              Param #   \n",
            "=================================================================\n",
            " conv2d (Conv2D)             (None, 858, 910, 16)      1312      \n",
            "                                                                 \n",
            " max_pooling2d (MaxPooling2D  (None, 66, 70, 16)       0         \n",
            " )                                                               \n",
            "                                                                 \n",
            " conv2d_1 (Conv2D)           (None, 66, 70, 1)         785       \n",
            "                                                                 \n",
            " max_pooling2d_1 (MaxPooling  (None, 6, 10, 1)         0         \n",
            " 2D)                                                             \n",
            "                                                                 \n",
            " flatten (Flatten)           (None, 60)                0         \n",
            "                                                                 \n",
            "=================================================================\n",
            "Total params: 2,097\n",
            "Trainable params: 2,097\n",
            "Non-trainable params: 0\n",
            "_________________________________________________________________\n",
            "\n",
            "Dencoder:\n",
            "Model: \"sequential_1\"\n",
            "_________________________________________________________________\n",
            " Layer (type)                Output Shape              Param #   \n",
            "=================================================================\n",
            " reshape (Reshape)           (None, 6, 10, 1)          0         \n",
            "                                                                 \n",
            " conv2d_2 (Conv2D)           (None, 6, 10, 1)          26        \n",
            "                                                                 \n",
            " up_sampling2d (UpSampling2D  (None, 66, 70, 1)        0         \n",
            " )                                                               \n",
            "                                                                 \n",
            " conv2d_3 (Conv2D)           (None, 66, 70, 16)        800       \n",
            "                                                                 \n",
            " up_sampling2d_1 (UpSampling  (None, 858, 910, 16)     0         \n",
            " 2D)                                                             \n",
            "                                                                 \n",
            " conv2d_4 (Conv2D)           (None, 858, 910, 1)       1297      \n",
            "                                                                 \n",
            "=================================================================\n",
            "Total params: 2,123\n",
            "Trainable params: 2,123\n",
            "Non-trainable params: 0\n",
            "_________________________________________________________________\n",
            "\n",
            "Autoencoder:\n",
            "Model: \"sequential_2\"\n",
            "_________________________________________________________________\n",
            " Layer (type)                Output Shape              Param #   \n",
            "=================================================================\n",
            " sequential (Sequential)     (None, 60)                2097      \n",
            "                                                                 \n",
            " sequential_1 (Sequential)   (None, 858, 910, 1)       2123      \n",
            "                                                                 \n",
            "=================================================================\n",
            "Total params: 4,220\n",
            "Trainable params: 4,220\n",
            "Non-trainable params: 0\n",
            "_________________________________________________________________\n"
          ]
        }
      ],
      "source": [
        "np.random.seed(42)\n",
        "tf.random.set_seed(42)\n",
        "\n",
        "encoder = keras.models.Sequential([keras.layers.Conv2D(16,(9,9),padding='same',activation='relu'),\n",
        "                                       keras.layers.MaxPooling2D((13,13)),\n",
        "                                       keras.layers.Conv2D(1,(7,7),padding='same',activation='relu'),\n",
        "                                       keras.layers.MaxPooling2D((11, 7)),\n",
        "                                       keras.layers.Flatten(),\n",
        "                                       ])\n",
        "decoder = keras.models.Sequential([\n",
        "                                    keras.layers.Reshape((6,10,1)),\n",
        "                                    keras.layers.Conv2D(1, (5, 5), padding='same', activation='relu'),\n",
        "                                    keras.layers.UpSampling2D((11, 7)),\n",
        "                                    keras.layers.Conv2D(16, (7, 7), padding='same', activation='relu'),\n",
        "                                    keras.layers.UpSampling2D((13, 13)),\n",
        "                                    keras.layers.Conv2D(1, (9, 9), padding='same', activation='sigmoid'),\n",
        "                                    ])\n",
        "autoencoder = keras.models.Sequential([encoder, decoder])\n",
        "\n",
        "autoencoder.compile(loss='binary_crossentropy',\n",
        "                    optimizer=keras.optimizers.Adam(),\n",
        "                    metrics=['mse'])\n",
        "print('Encoder:')\n",
        "encoder.build(input_shape=(None,858,910,1))\n",
        "encoder.summary()\n",
        "print('\\nDencoder:')\n",
        "decoder.build(input_shape=(None,60,1))\n",
        "decoder.summary()\n",
        "print('\\nAutoencoder:')\n",
        "autoencoder.build(input_shape=(None,858,910,1))\n",
        "autoencoder.summary()"
      ]
    },
    {
      "cell_type": "code",
      "execution_count": 10,
      "metadata": {
        "id": "rW8XzR6Xdcdq"
      },
      "outputs": [],
      "source": [
        "# We use the following callback to prevent overfitting\n",
        "\n",
        "earlystopping = keras.callbacks.EarlyStopping(monitor =\"val_loss\", \n",
        "                                        mode =\"min\", patience = 5, \n",
        "                                        restore_best_weights = True)"
      ]
    },
    {
      "cell_type": "code",
      "execution_count": null,
      "metadata": {
        "id": "D0EZmAZBKDMB"
      },
      "outputs": [],
      "source": [
        "# Due to RAM limitations we were unable to run a bigger batch size. Also, due\n",
        "# to time we could only run a small number of epochs. "
      ]
    },
    {
      "cell_type": "code",
      "execution_count": null,
      "metadata": {
        "id": "2QkMCdtOdhfI"
      },
      "outputs": [],
      "source": [
        "start = time.time()\n",
        "history = autoencoder.fit(train, \n",
        "                          train, \n",
        "                          epochs=8, \n",
        "                          batch_size=8, \n",
        "                          verbose=2, \n",
        "                          validation_data = (test, test), \n",
        "                          shuffle = True, callbacks = [earlystopping])\n",
        "time_ae = time.time() - start\n",
        "print('Execution time: ', time_ae)"
      ]
    },
    {
      "cell_type": "code",
      "execution_count": 12,
      "metadata": {
        "colab": {
          "base_uri": "https://localhost:8080/",
          "height": 338
        },
        "id": "zy1uwMX3eMBO",
        "outputId": "e2977630-d0a0-42ca-fe6a-0835218b875b"
      },
      "outputs": [
        {
          "data": {
            "text/plain": [
              "<matplotlib.legend.Legend at 0x7f54b5b944d0>"
            ]
          },
          "execution_count": 12,
          "metadata": {},
          "output_type": "execute_result"
        },
        {
          "data": {
            "image/png": "[encoded data removed]",
            "text/plain": [
              "<Figure size 864x360 with 2 Axes>"
            ]
          },
          "metadata": {
            "needs_background": "light"
          },
          "output_type": "display_data"
        }
      ],
      "source": [
        "fig, axes = plt.subplots(1,2, figsize=(12,5))\n",
        "axes[0].plot(history.history['loss'])\n",
        "axes[0].plot(history.history['val_loss'])\n",
        "axes[0].legend(['Loss', 'Val_loss'])\n",
        "axes[1].plot(history.history['mse'])\n",
        "axes[1].plot(history.history['val_mse'])\n",
        "axes[1].legend(['mse', 'Val_mse'])"
      ]
    },
    {
      "cell_type": "code",
      "execution_count": 13,
      "metadata": {
        "colab": {
          "base_uri": "https://localhost:8080/"
        },
        "id": "UTKFtHrteYEw",
        "outputId": "aac5a010-a9ea-4808-cbb3-cd09330b8c86"
      },
      "outputs": [
        {
          "name": "stdout",
          "output_type": "stream",
          "text": [
            "mse:  0.09133880579540682\n"
          ]
        }
      ],
      "source": [
        "test_recovered = autoencoder.predict(test)\n",
        "mse_test = da.mse(test.reshape((10,-1)), test_recovered.reshape((10,-1)))\n",
        "print('mse: ', mse_test)"
      ]
    },
    {
      "cell_type": "markdown",
      "metadata": {
        "id": "nkKvCL2P3rpr"
      },
      "source": [
        "#Data Assimilation - Kalman Filter (BLUE)"
      ]
    },
    {
      "cell_type": "code",
      "execution_count": 68,
      "metadata": {
        "id": "9K1fE0RnKaPU"
      },
      "outputs": [],
      "source": [
        "# Through experimenting with different computations of R, we found the following to give us the\n",
        "# lowest MSE after data assimilation. "
      ]
    },
    {
      "cell_type": "code",
      "execution_count": 65,
      "metadata": {
        "id": "3tGrsDr_--QD"
      },
      "outputs": [],
      "source": [
        "## Setting the required variables for data assimilation\n",
        "\n",
        "model_data_compr = encoder.predict(model_data) # Compressing the model Data\n",
        "satellite_data_compr = encoder.predict(satellite_data) # Compressing the satellite Data\n",
        "\n",
        "latent_space = satellite_data_compr.shape[1]\n",
        "nNodes = latent_space  #latent_space is the size of the compressed variables or number of principal components used\n",
        "I = np.identity(nNodes)\n",
        "R = da.covariance_diagonal_only(satellite_data_compr.T, latent_space) * 500\n",
        "H = I \n",
        "B = I*0.000001"
      ]
    },
    {
      "cell_type": "code",
      "execution_count": 66,
      "metadata": {
        "id": "Zy4FbjA58rx8"
      },
      "outputs": [],
      "source": [
        "## Performing data assimilation\n",
        "updated_data_array = da.assimilate(B, H, R, model_data_compr, satellite_data_compr)"
      ]
    },
    {
      "cell_type": "code",
      "execution_count": 67,
      "metadata": {
        "colab": {
          "base_uri": "https://localhost:8080/"
        },
        "id": "cgqgwnjbI1Ch",
        "outputId": "f0b069e5-cf11-42ab-d1dd-7b916b45223f"
      },
      "outputs": [
        {
          "name": "stdout",
          "output_type": "stream",
          "text": [
            "MSE before assimilation in latent space:  0.3622854\n",
            "MSE after assimilation in latent space:  0.25463773148562235\n",
            "MSE before assimilation in physical space:  0.12137401060477984\n",
            "MSE after assimilation in physical space:  0.10920173230580799\n"
          ]
        }
      ],
      "source": [
        "## Printing MSE in latent space\n",
        "mse_before_DA = da.mse(satellite_data_compr, model_data_compr)\n",
        "mse_after_DA = da.mse(satellite_data_compr, updated_data_array)\n",
        "print('MSE before assimilation in latent space: ', mse_before_DA )\n",
        "print('MSE after assimilation in latent space: ', mse_after_DA)\n",
        "\n",
        "## Printing MSE in Physical space space\n",
        "updated_data_recon = decoder.predict(updated_data_array)\n",
        "mse_before_DA_physical = da.mse(satellite_data, model_data)\n",
        "mse_after_DA_physical = da.mse(satellite_data, updated_data_recon.squeeze())\n",
        "\n",
        "print('MSE before assimilation in physical space: ', mse_before_DA_physical)\n",
        "print('MSE after assimilation in physical space: ', mse_after_DA_physical)"
      ]
    }
  ],
  "metadata": {
    "accelerator": "TPU",
    "colab": {
      "collapsed_sections": [],
      "machine_shape": "hm",
      "name": "Q2_CAE (5).ipynb",
      "provenance": []
    },
    "kernelspec": {
      "display_name": "Python 3",
      "language": "python",
      "name": "python3"
    },
    "language_info": {
      "codemirror_mode": {
        "name": "ipython",
        "version": 3
      },
      "file_extension": ".py",
      "mimetype": "text/x-python",
      "name": "python",
      "nbconvert_exporter": "python",
      "pygments_lexer": "ipython3",
      "version": "3.8.5"
    }
  },
  "nbformat": 4,
  "nbformat_minor": 0
}
