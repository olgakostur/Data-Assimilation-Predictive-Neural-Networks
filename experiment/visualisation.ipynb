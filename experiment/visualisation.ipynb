{
 "cells": [
  {
   "cell_type": "markdown",
   "id": "f4d249b6-42a1-4105-93ff-c92537f8ba74",
   "metadata": {},
   "source": [
    "# Visualisation function demo notebook"
   ]
  },
  {
   "cell_type": "markdown",
   "id": "9c091453-40ec-4346-ac36-a6e738015bd9",
   "metadata": {},
   "source": [
    "## Imports"
   ]
  },
  {
   "cell_type": "code",
   "execution_count": null,
   "id": "d009e323-1145-4832-888b-eefb20c1c6b4",
   "metadata": {},
   "outputs": [],
   "source": [
    "import numpy as np\n",
    "\n",
    "import holoviews as hv\n",
    "import hvplot.pandas\n",
    "\n",
    "from tools.loaddata import load_data # using project defined function to load in data\n",
    "from tools.visualisation import create_slider # project defined function to return slider vis"
   ]
  },
  {
   "cell_type": "markdown",
   "id": "a2876b41-264b-484a-803b-314a8a647245",
   "metadata": {},
   "source": [
    "## Loading in data"
   ]
  },
  {
   "cell_type": "markdown",
   "id": "da1d27d6-082d-4e44-8dfa-c9b72b0b8267",
   "metadata": {},
   "source": [
    "Here we are using the project defined function to import test data and observation data, although this visualisation can be run on any of the provided datasets.\n",
    "\n",
    "We need to reshape the test data due to the input shape required from the create_slider function."
   ]
  },
  {
   "cell_type": "code",
   "execution_count": null,
   "id": "5a1a9adc-ac62-42fd-8dbb-ad68c3257acb",
   "metadata": {},
   "outputs": [],
   "source": [
    "test_data = load_data('../data/test').reshape((75, 4, 871, 913))\n",
    "obs_data = load_data('../data/satellite')"
   ]
  },
  {
   "cell_type": "markdown",
   "id": "86d8129f-8e72-4419-bd49-8243f6c3e3d9",
   "metadata": {},
   "source": [
    "## Producing slider visualisation"
   ]
  },
  {
   "cell_type": "markdown",
   "id": "9e387a5d-8e50-43b4-87d9-0c9df0084a68",
   "metadata": {
    "tags": []
   },
   "source": [
    "### Test data example"
   ]
  },
  {
   "cell_type": "markdown",
   "id": "e7386d6e-bde5-499f-8d02-d9a6507d4766",
   "metadata": {},
   "source": [
    "We provide the whole dataset, and we also provide a number for which simulation we want to visualise. For the test data, this can be between 0-74 as we have 75 simulations.\n",
    "\n",
    "Once run, the user can slide between days to see how the wildfire progresses over time."
   ]
  },
  {
   "cell_type": "code",
   "execution_count": null,
   "id": "d3ee9287-6c66-4630-8b63-56b8c39e6e8e",
   "metadata": {},
   "outputs": [],
   "source": [
    "# Which simulation do we want to see?\n",
    "sim = 42\n",
    "\n",
    "# Running the visualisation\n",
    "create_slider(test_data, sim)"
   ]
  },
  {
   "cell_type": "markdown",
   "id": "67a77b84-56bf-4c6e-8730-66abf24ff0dd",
   "metadata": {
    "tags": []
   },
   "source": [
    "### Observation data example"
   ]
  },
  {
   "cell_type": "markdown",
   "id": "5f965438-c92d-45f2-8bec-808690d37c33",
   "metadata": {},
   "source": [
    "Since there are no simulations in the observation (aka satellite) dataset, we dont need to provide a simulation number.\n",
    "\n",
    "If the required input shapes have been followed as specified in the docstring of the create_slider function, then the function will understand this is not either a train or test dataset and that there are no simulations. It knows this is either bavkground or observation and deals with the shape of the data accordingly.\n",
    "\n",
    "Also, we have an option to change the colour mapping of the visualisation, here we have are using the \"rainbow\" colour map instead"
   ]
  },
  {
   "cell_type": "code",
   "execution_count": null,
   "id": "3d29fd86-d063-4905-830c-c576561f225d",
   "metadata": {},
   "outputs": [],
   "source": [
    "# Running the visualisation\n",
    "create_slider(obs_data, cmap='rainbow')"
   ]
  },
  {
   "cell_type": "code",
   "execution_count": null,
   "id": "f737e90e-5749-47dc-b820-bb17a3a5529d",
   "metadata": {},
   "outputs": [],
   "source": []
  }
 ],
 "metadata": {
  "kernelspec": {
   "display_name": "Python 3 (ipykernel)",
   "language": "python",
   "name": "python3"
  },
  "language_info": {
   "codemirror_mode": {
    "name": "ipython",
    "version": 3
   },
   "file_extension": ".py",
   "mimetype": "text/x-python",
   "name": "python",
   "nbconvert_exporter": "python",
   "pygments_lexer": "ipython3",
   "version": "3.7.11"
  }
 },
 "nbformat": 4,
 "nbformat_minor": 5
}
