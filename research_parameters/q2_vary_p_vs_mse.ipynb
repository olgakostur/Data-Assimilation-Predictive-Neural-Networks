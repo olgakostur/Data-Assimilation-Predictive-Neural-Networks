{
 "cells": [
  {
   "cell_type": "markdown",
   "metadata": {},
   "source": [
    "## Allowing import from parent's directory"
   ]
  },
  {
   "cell_type": "code",
   "execution_count": 1,
   "metadata": {},
   "outputs": [],
   "source": [
    "import os\n",
    "import sys\n",
    "import inspect\n",
    "\n",
    "currentdir = os.path.dirname(os.path.abspath(inspect.getfile(inspect.currentframe())))\n",
    "parentdir = os.path.dirname(currentdir)\n",
    "sys.path.insert(0, parentdir)"
   ]
  },
  {
   "cell_type": "markdown",
   "metadata": {},
   "source": [
    "## Importing the required modules"
   ]
  },
  {
   "cell_type": "code",
   "execution_count": 2,
   "metadata": {
    "id": "YOqWVu1ez2GP"
   },
   "outputs": [],
   "source": [
    "import glob\n",
    "import numpy as np\n",
    "import matplotlib.pyplot as plt\n",
    "import time\n",
    "import tools.loaddata as loaddata\n",
    "import tools.dataassimilation as da\n",
    "\n",
    "import sklearn\n",
    "assert sklearn.__version__ >= \"0.20\"\n",
    "from sklearn.metrics import mean_squared_error\n",
    "from sklearn.decomposition import PCA"
   ]
  },
  {
   "cell_type": "markdown",
   "metadata": {},
   "source": [
    "## Summary of findings\n",
    "\n",
    "We expect that increasing the variance would reduce MSE for PCA compression. However, in this notebook we aim to test the increase of variance value against the MSE for PCA compression with data assimilation.\n",
    "\n",
    "At the end of this notebook, we have confirmed the fact that our hypothesis is true and that for the lowest MSE we should use the highest possible variance"
   ]
  },
  {
   "cell_type": "markdown",
   "metadata": {},
   "source": [
    "## Loading and reshaping data"
   ]
  },
  {
   "cell_type": "code",
   "execution_count": 6,
   "metadata": {
    "id": "ZZKOoj6Ns88y"
   },
   "outputs": [],
   "source": [
    "path_train = \"../data/train/\"\n",
    "path_test = \"../data/test/\"\n",
    "path_back = \"../data/background/\"\n",
    "path_obs = \"../data/satellite/\""
   ]
  },
  {
   "cell_type": "code",
   "execution_count": 7,
   "metadata": {
    "id": "Ea4QKsNttNgh"
   },
   "outputs": [],
   "source": [
    "train_full, test, model_data, satellite_data = loaddata.load_all_data(path_train, path_test, path_back, path_obs)"
   ]
  },
  {
   "cell_type": "code",
   "execution_count": 8,
   "metadata": {
    "id": "VS7tPn4PWGki"
   },
   "outputs": [],
   "source": [
    "train = train_full[0:300]"
   ]
  },
  {
   "cell_type": "code",
   "execution_count": 9,
   "metadata": {
    "colab": {
     "base_uri": "https://localhost:8080/"
    },
    "id": "SsAFXbPSBDCV",
    "outputId": "62b230ef-7708-414c-e879-4c84be9e854d"
   },
   "outputs": [
    {
     "name": "stdout",
     "output_type": "stream",
     "text": [
      "Train data before reshaping: (300, 871, 913)\n",
      "Test data before reshaping: (300, 871, 913)\n",
      "background data before reshaping: (5, 871, 913)\n",
      "observational data before reshaping: (5, 871, 913)\n"
     ]
    }
   ],
   "source": [
    "print(f\"Train data before reshaping: {np.shape(train)}\")\n",
    "print(f\"Test data before reshaping: {np.shape(test)}\")\n",
    "print(f\"background data before reshaping: {np.shape(model_data)}\")\n",
    "print(f\"observational data before reshaping: {np.shape(satellite_data)}\")"
   ]
  },
  {
   "cell_type": "code",
   "execution_count": 10,
   "metadata": {},
   "outputs": [],
   "source": [
    "train_1D, test_1D, model_data_1D, satellite_data_1D = loaddata.reshape_all_datasets(train, test, model_data, satellite_data)"
   ]
  },
  {
   "cell_type": "code",
   "execution_count": 11,
   "metadata": {
    "colab": {
     "base_uri": "https://localhost:8080/"
    },
    "id": "LVKEdZsCtgIT",
    "outputId": "8e0aaa4a-91d0-4085-eebb-489d4eb02086"
   },
   "outputs": [
    {
     "name": "stdout",
     "output_type": "stream",
     "text": [
      "Train data after reshaping: (300, 795223)\n",
      "Test data after reshaping: (300, 795223)\n",
      "Model data after reshaping: (5, 795223)\n",
      "Observational data after reshaping: (5, 795223)\n"
     ]
    }
   ],
   "source": [
    "print(f\"Train data after reshaping: {train_1D.shape}\")\n",
    "print(f\"Test data after reshaping: {test_1D.shape}\")\n",
    "print(f\"Model data after reshaping: {model_data_1D.shape}\")\n",
    "print(f\"Observational data after reshaping: {satellite_data_1D.shape}\")"
   ]
  },
  {
   "cell_type": "markdown",
   "metadata": {},
   "source": [
    "## Iterating through p values, and print out the MSE"
   ]
  },
  {
   "cell_type": "code",
   "execution_count": 12,
   "metadata": {},
   "outputs": [
    {
     "data": {
      "text/plain": [
       "PCA(n_components=300)"
      ]
     },
     "execution_count": 12,
     "metadata": {},
     "output_type": "execute_result"
    }
   ],
   "source": [
    "pca = PCA(min(train_1D.shape))\n",
    "pca.fit(train_1D)"
   ]
  },
  {
   "cell_type": "code",
   "execution_count": 13,
   "metadata": {
    "colab": {
     "base_uri": "https://localhost:8080/"
    },
    "id": "LldUnRBSuuqA",
    "outputId": "455e881b-86f8-42de-e4a3-c3def310d209"
   },
   "outputs": [
    {
     "name": "stdout",
     "output_type": "stream",
     "text": [
      "k: 23 p:  0.85 \n",
      " mse_l_bef:  1345.640198772879 mse_l_af:  441.0562979721959 \n",
      " mse_p_bef:  0.1191695914227833 mse_p_af:  0.07559164529767719\n",
      "Execution time:  24.004759073257446\n",
      "k: 32 p:  0.87 \n",
      " mse_l_bef:  980.3857317729131 mse_l_af:  299.03441839298455 \n",
      " mse_p_bef:  0.1191695914227833 mse_p_af:  0.0746527365232419\n",
      "Execution time:  18.033245086669922\n",
      "k: 48 p:  0.9 \n",
      " mse_l_bef:  661.8940037186052 mse_l_af:  184.73316845200026 \n",
      " mse_p_bef:  0.1191695914227833 mse_p_af:  0.07329859240050886\n",
      "Execution time:  19.762857913970947\n",
      "k: 84 p:  0.95 \n",
      " mse_l_bef:  396.0574499852082 mse_l_af:  73.47879421838019 \n",
      " mse_p_bef:  0.1191695914227833 mse_p_af:  0.0687597465136334\n",
      "Execution time:  33.05784893035889\n",
      "k: 195 p:  0.99 \n",
      " mse_l_bef:  187.390448543866 mse_l_af:  25.565146105423008 \n",
      " mse_p_bef:  0.1191695914227833 mse_p_af:  0.06400222630206125\n",
      "Execution time:  70.9097728729248\n"
     ]
    }
   ],
   "source": [
    "p_list = [0.85, 0.87, 0.90, 0.95, 0.99]\n",
    "k_list = []\n",
    "mse_physical_before = []\n",
    "mse_physical_after = []\n",
    "mse_latent_before = []\n",
    "mse_latent_after = []\n",
    "\n",
    "for p in p_list:\n",
    "    start = time.time()\n",
    "    ## Choosing PCA components\n",
    "    cumsum_eig = np.cumsum(pca.explained_variance_ratio_)\n",
    "    k = np.argmax(cumsum_eig >= p) + 1 # k is the number of principal components we have chosen\n",
    "    k_list.append(k)\n",
    "\n",
    "    ## Performing PCA\n",
    "    pca_compress = PCA(n_components=k)\n",
    "    pca_compress.fit(train_1D)\n",
    "\n",
    "    ## Compressing the data\n",
    "    model_data_compr = pca_compress.transform(model_data_1D)\n",
    "    satellite_data_compr = pca_compress.transform(satellite_data_1D)\n",
    "    \n",
    "    # Data Assimilation - Kalman Filter (BLUE)\n",
    "    latent_space = k\n",
    "    nNodes = latent_space  # latent_space is the size of the compressed variables or number of principal components used\n",
    "    I = np.identity(nNodes)\n",
    "    R = np.cov(satellite_data_compr.T)\n",
    "    H = I \n",
    "    B = 0.001 * I\n",
    "\n",
    "    ## Performing data assimilation\n",
    "    updated_data_array = da.assimilate(B, H, R, model_data_compr, satellite_data_compr)\n",
    "\n",
    "    ## Calculating MSE in latent space\n",
    "    mse_before_DA = da.mse(satellite_data_compr, model_data_compr)\n",
    "    mse_after_DA = da.mse(satellite_data_compr, updated_data_array)\n",
    "    mse_latent_before.append(mse_before_DA)\n",
    "    mse_latent_after.append(mse_after_DA)\n",
    "    \n",
    "    ## Calculating MSE in physical space\n",
    "    updated_data_recon = pca_compress.inverse_transform(updated_data_array)\n",
    "    mse_before_DA_physical = da.mse(satellite_data_1D, model_data_1D)\n",
    "    mse_after_DA_physical = da.mse(satellite_data_1D, updated_data_recon)\n",
    "    mse_physical_before.append(mse_before_DA_physical)\n",
    "    mse_physical_after.append(mse_after_DA_physical)\n",
    "\n",
    "    print(\"k:\", k, \"p: \", p, \"\\n\",\"mse_l_bef: \", mse_before_DA, \"mse_l_af: \",mse_after_DA,\"\\n\", \"mse_p_bef: \", mse_before_DA_physical, \"mse_p_af: \", mse_after_DA_physical)\n",
    "    time_train = time.time() - start\n",
    "    print('Execution time: ', time_train)"
   ]
  },
  {
   "cell_type": "markdown",
   "metadata": {},
   "source": [
    "## Visualizing the results"
   ]
  },
  {
   "cell_type": "markdown",
   "metadata": {},
   "source": [
    "We can see that as the p values increase, the physical mse after data assimilation decreases. This coincides with the latent space (also note how the gap between MSE decrease over higher p). Hence, we expect good result with a large p"
   ]
  },
  {
   "cell_type": "code",
   "execution_count": 18,
   "metadata": {},
   "outputs": [
    {
     "data": {
      "text/plain": [
       "<matplotlib.legend.Legend at 0x7fa248c06dd0>"
      ]
     },
     "execution_count": 18,
     "metadata": {},
     "output_type": "execute_result"
    },
    {
     "data": {
      "image/png": "[encoded data removed]",
      "text/plain": [
       "<Figure size 1080x360 with 2 Axes>"
      ]
     },
     "metadata": {
      "needs_background": "light"
     },
     "output_type": "display_data"
    }
   ],
   "source": [
    "fig, (ax1, ax2) = plt.subplots(1, 2)\n",
    "fig.set_figheight(5)\n",
    "fig.set_figwidth(15)\n",
    "ax1.loglog(p_list, mse_physical_before, '-o', label=\"physical_before\")\n",
    "ax1.loglog(p_list, mse_physical_after, '-o', label=\"physical_after\")\n",
    "ax1.set_xlabel(\"variance\")\n",
    "ax1.set_ylabel(\"MSE\")\n",
    "ax1.legend()\n",
    "ax2.loglog(p_list, mse_latent_before, '-o', label=\"latent_before\")\n",
    "ax2.loglog(p_list, mse_latent_after, '-o', label=\"latent_after\")\n",
    "ax2.set_xlabel(\"variance\")\n",
    "ax2.set_ylabel(\"MSE\")\n",
    "ax2.legend()"
   ]
  },
  {
   "cell_type": "code",
   "execution_count": 19,
   "metadata": {},
   "outputs": [
    {
     "data": {
      "text/plain": [
       "<matplotlib.legend.Legend at 0x7fa24927b490>"
      ]
     },
     "execution_count": 19,
     "metadata": {},
     "output_type": "execute_result"
    },
    {
     "data": {
      "image/png": "[encoded data removed]",
      "text/plain": [
       "<Figure size 1080x360 with 2 Axes>"
      ]
     },
     "metadata": {
      "needs_background": "light"
     },
     "output_type": "display_data"
    }
   ],
   "source": [
    "fig, (ax1, ax2) = plt.subplots(1, 2)\n",
    "fig.set_figheight(5)\n",
    "fig.set_figwidth(15)\n",
    "ax1.loglog(k_list, mse_physical_before, '-o', label=\"physical_before\")\n",
    "ax1.loglog(k_list, mse_physical_after, '-o', label=\"physical_after\")\n",
    "ax1.set_xlabel(\"variance\")\n",
    "ax1.set_ylabel(\"MSE\")\n",
    "ax1.legend()\n",
    "ax2.loglog(k_list, mse_latent_before, '-o', label=\"latent_before\")\n",
    "ax2.loglog(k_list, mse_latent_after, '-o', label=\"latent_after\")\n",
    "ax2.set_xlabel(\"variance\")\n",
    "ax2.set_ylabel(\"MSE\")\n",
    "ax2.legend()"
   ]
  },
  {
   "cell_type": "code",
   "execution_count": null,
   "metadata": {
    "id": "4du19WdZc-OF"
   },
   "outputs": [],
   "source": []
  }
 ],
 "metadata": {
  "accelerator": "TPU",
  "colab": {
   "collapsed_sections": [],
   "machine_shape": "hm",
   "name": "q2_stradegy2_exp",
   "provenance": []
  },
  "kernelspec": {
   "display_name": "Python 3 (ipykernel)",
   "language": "python",
   "name": "python3"
  },
  "language_info": {
   "codemirror_mode": {
    "name": "ipython",
    "version": 3
   },
   "file_extension": ".py",
   "mimetype": "text/x-python",
   "name": "python",
   "nbconvert_exporter": "python",
   "pygments_lexer": "ipython3",
   "version": "3.7.11"
  }
 },
 "nbformat": 4,
 "nbformat_minor": 1
}
